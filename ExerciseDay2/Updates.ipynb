{
 "cells": [
  {
   "cell_type": "markdown",
   "metadata": {},
   "source": [
    "# A few things you need to know\n",
    "In the following exercise we need to do some operations that are new:"
   ]
  },
  {
   "cell_type": "code",
   "execution_count": 17,
   "metadata": {
    "collapsed": false
   },
   "outputs": [
    {
     "name": "stdout",
     "output_type": "stream",
     "text": [
      "1. A list of directory names:\n",
      "['.DS_Store', '.ipynb_checkpoints', 'make_data', 'scan', 'scan2', 'solution', 'Updates.ipynb', 'YourTask.txt']\n",
      "\n",
      "2. Printing the aster.txt file:\n",
      "\n",
      "% start   5\n",
      "% time    5\n",
      "%    class  identity  positionX positionY positionZ\n",
      "         1         1   -0.3191     3.676   -0.4178\n",
      "% end\n"
     ]
    }
   ],
   "source": [
    "# Import the module os (operating system),it contains some functions of the system that are different in windows\n",
    "# and mac\n",
    "import os\n",
    "\n",
    "# Get a list of the files in the current folder (one dot '.' represents current folder)\n",
    "print('1. A list of directory names:')\n",
    "print(os.listdir('.'))\n",
    "print('')\n",
    "# Get a list of the names of the files in the folder scan, you can print them, there is 300 of them!\n",
    "# This is similar to the command ls of cygwin/command line\n",
    "all_files = os.listdir('scan')\n",
    "\n",
    "# We can also write it like this\n",
    "all_files2 = os.listdir('./scan')\n",
    "\n",
    "# In order to access the file aster.txt that is in the path ./scan/run0000/aster.txt we have to construct a path\n",
    "# we can make a string, but if you remember the path is defined differently in mac and windows: in mac we use '/'\n",
    "# and in windows we use '\\'. There is a python function that will provide a cross-platform solution\n",
    "file_path = os.path.join('scan','run0000','aster.txt')\n",
    "\n",
    "print('2. Printing the aster.txt file:')\n",
    "with open(file_path) as ins:\n",
    "    for line in ins:\n",
    "        print(line[:-1])\n",
    "    ins.close()"
   ]
  }
 ],
 "metadata": {
  "kernelspec": {
   "display_name": "Python 2",
   "language": "python",
   "name": "python2"
  },
  "language_info": {
   "codemirror_mode": {
    "name": "ipython",
    "version": 2
   },
   "file_extension": ".py",
   "mimetype": "text/x-python",
   "name": "python",
   "nbconvert_exporter": "python",
   "pygments_lexer": "ipython2",
   "version": "2.7.13"
  }
 },
 "nbformat": 4,
 "nbformat_minor": 2
}
