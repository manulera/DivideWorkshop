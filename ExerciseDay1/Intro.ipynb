{
 "cells": [
  {
   "cell_type": "markdown",
   "metadata": {
    "collapsed": true
   },
   "source": [
    "# An (extraordinarily brief) introduction to Python\n",
    "\n",
    "This intro was based on the Introduction to Python Programming course developed by Toby Hodges, in EMBL Heidelberg.\n",
    "\n",
    "This first part is going to be in jupyter notebook. This environment allows for teaching python. Although we are going to write a python file later, this notebook will be useful to get familiar with the main concepts\n",
    "\n",
    "Before you start please create a safe copy of the notebook in case you delete some of the cells"
   ]
  },
  {
   "cell_type": "markdown",
   "metadata": {},
   "source": [
    "## Do you already know python?\n",
    "\n",
    "If you already know python well enough, please have a quick look in case some of the concepts discussed in the tutorial is new to you. If you think you already know everything, you can try some other things.\n",
    "\n",
    "1. If you are interested in sequences or text analysis in general, you can do the following:\n",
    "    * Go to genbank and download the file sequence of a prokaryot gene encoding a protein, and make a script to find all possible reading frames. Did you find the good one?\n",
    "    * If you think that is too easy and you want to go a bit further, you should learn regular expressions: https://ryanstutorials.net/regular-expressions-tutorial/. Now you can download a FASTA file from uniprot containing several sequences of your favourite family of proteins. Make a regular expression search of a motif characteristic to this proteins and see if you find it.\n",
    "2. If you are more interested in writing a simulation in python, you can go to the notebook my_sim."
   ]
  },
  {
   "cell_type": "markdown",
   "metadata": {},
   "source": [
    "## Printing\n",
    "We can use python here by typing commands in the cells, we can start by printing a sentence. If you select the cell below and click Ctrl+Enter, you will see that the cell produces an output saying \"hello world\"."
   ]
  },
  {
   "cell_type": "code",
   "execution_count": 2,
   "metadata": {
    "collapsed": false
   },
   "outputs": [
    {
     "name": "stdout",
     "output_type": "stream",
     "text": [
      "hello world\n"
     ]
    }
   ],
   "source": [
    "# A very basic python section\n",
    "print('hello world')"
   ]
  },
  {
   "cell_type": "markdown",
   "metadata": {},
   "source": [
    "## Syntax\n",
    "If we look at the python cell above, we can see three types of text\n",
    " * A coment (\"# A very basic python section\"): It is preceded with the symbol '#'. The code after the symbol is ignored by python, this is for you to make anotations and to explain your code. It has no effect on the program execution\n",
    " \n",
    " * A command or function call (print(_something_)): print is a python **function**, that takes an **argument** (in this case the **string** 'hello world') and prints it to the console.\n",
    " \n",
    " * A string ('hello world'): Strings are series of characters, they are not interpreted as commands by python, you will see an example of what this means below."
   ]
  },
  {
   "cell_type": "markdown",
   "metadata": {},
   "source": [
    "### Try it yourself\n",
    "Try to print some sentence in the cell below"
   ]
  },
  {
   "cell_type": "code",
   "execution_count": null,
   "metadata": {
    "collapsed": true
   },
   "outputs": [],
   "source": []
  },
  {
   "cell_type": "markdown",
   "metadata": {},
   "source": [
    "## Evaluating expressions\n",
    "Example of the basic mathematical operations"
   ]
  },
  {
   "cell_type": "code",
   "execution_count": 8,
   "metadata": {
    "collapsed": false
   },
   "outputs": [
    {
     "name": "stdout",
     "output_type": "stream",
     "text": [
      "12\n",
      "17\n",
      "-3\n",
      "3\n",
      "3.33333333333\n",
      "1+1\n"
     ]
    }
   ],
   "source": [
    "print(3 * 4)     # Multiplication\n",
    "print(7 + 10)    # Addition\n",
    "print(7 - 10)    # Subtraction\n",
    "print(10 / 3)    # Division of integers\n",
    "print(10.0 / 3)    # Division of floats\n",
    "print('1+1')"
   ]
  },
  {
   "cell_type": "markdown",
   "metadata": {},
   "source": [
    "### Conclusions from the above cell\n",
    "1. A python expression like 1+1, if expressed between quotes(string), is not evaluated by python, instead it is considered as a series of characters\n",
    "\n",
    "2. 10/3 gives 3 as a result. This is because we are dividing integers, and not floats. This is very important to notice, it can lead to bugs that take very long to find."
   ]
  },
  {
   "cell_type": "markdown",
   "metadata": {},
   "source": [
    "### Try it yourself\n",
    "Try some mathematical operations in the cell below"
   ]
  },
  {
   "cell_type": "code",
   "execution_count": null,
   "metadata": {
    "collapsed": true
   },
   "outputs": [],
   "source": []
  },
  {
   "cell_type": "markdown",
   "metadata": {},
   "source": [
    "# Variables\n",
    "Instead of printing the values, we can store them in **variables**. This means we can access their value later. The names of variables must start with a non-numerical character, and they can contain underscore '_' and capital letters."
   ]
  },
  {
   "cell_type": "code",
   "execution_count": 10,
   "metadata": {
    "collapsed": false
   },
   "outputs": [
    {
     "name": "stdout",
     "output_type": "stream",
     "text": [
      "1\n",
      "3\n"
     ]
    }
   ],
   "source": [
    "a = 1\n",
    "b = 2\n",
    "print(a)\n",
    "print(a+b)"
   ]
  },
  {
   "cell_type": "markdown",
   "metadata": {},
   "source": [
    "### Try it yourself\n",
    "Try assigning objects to variables"
   ]
  },
  {
   "cell_type": "code",
   "execution_count": null,
   "metadata": {
    "collapsed": true
   },
   "outputs": [],
   "source": []
  },
  {
   "cell_type": "markdown",
   "metadata": {},
   "source": [
    "# String indexing\n",
    "Indexing is an operation that returns one element or a subset of elements of an object. A simple example is indexing a string. Suppose we have the string 'I love cytosim'. Let's index some of the elements."
   ]
  },
  {
   "cell_type": "code",
   "execution_count": 26,
   "metadata": {
    "collapsed": false
   },
   "outputs": [
    {
     "name": "stdout",
     "output_type": "stream",
     "text": [
      "I\n",
      "I love \n",
      "I love \n",
      "cytosim!!!\n",
      "cytosim!!!\n"
     ]
    }
   ],
   "source": [
    "phrase = 'I love cytosim!!!'\n",
    "# 1. Get the first element\n",
    "print(phrase[0])\n",
    "\n",
    "# 2. Get the first 6 elements and store them in a variable\n",
    "subset = phrase[0:7]\n",
    "# Print them\n",
    "print(subset)\n",
    "# You can also do it like this\n",
    "print(phrase[:7])\n",
    "\n",
    "# 3. Get the last 10 elements\n",
    "print(phrase[-10:])\n",
    "# or like this\n",
    "print(phrase[7:])"
   ]
  },
  {
   "cell_type": "markdown",
   "metadata": {},
   "source": [
    "There is more complex indexing possibilities, but for this course, this should be enough.\n",
    "\n",
    "Note that:\n",
    "\n",
    " * The index of the first element in python is 0. This is different from Matlab\n",
    " \n",
    " * When you describe a subset of elements from index_a to index_b using the sintax index_a:index_b, the last element is not included (example 2), so if I want to have all the elements including index_b I have to do index_a:(index_b+1)"
   ]
  },
  {
   "cell_type": "markdown",
   "metadata": {},
   "source": [
    "### Try it yourself\n",
    "Try to write a sentence and extract some of the words"
   ]
  },
  {
   "cell_type": "code",
   "execution_count": null,
   "metadata": {
    "collapsed": true
   },
   "outputs": [],
   "source": []
  },
  {
   "cell_type": "markdown",
   "metadata": {},
   "source": [
    "# Lists\n",
    "\n",
    "Lists are objects that contain a sequence of elements. We can store different information in them. The syntax to create a list is the following"
   ]
  },
  {
   "cell_type": "code",
   "execution_count": 29,
   "metadata": {
    "collapsed": false
   },
   "outputs": [
    {
     "name": "stdout",
     "output_type": "stream",
     "text": [
      "['a', 3, 1, 9]\n"
     ]
    }
   ],
   "source": [
    "a_number = 1\n",
    "my_list = ['a', 3, a_number, 2+7]\n",
    "print my_list"
   ]
  },
  {
   "cell_type": "markdown",
   "metadata": {},
   "source": [
    "Lists can also be indexed"
   ]
  },
  {
   "cell_type": "code",
   "execution_count": 31,
   "metadata": {
    "collapsed": false
   },
   "outputs": [
    {
     "name": "stdout",
     "output_type": "stream",
     "text": [
      "a\n",
      "['a', 'b']\n"
     ]
    }
   ],
   "source": [
    "my_list = ['a','b','c']\n",
    "print(my_list[0])\n",
    "print(my_list[0:2])"
   ]
  },
  {
   "cell_type": "markdown",
   "metadata": {},
   "source": [
    "Note that if we index one element of the list, we get the element in that position. However, if we index a subset of the list we get a list containing that subset of elements."
   ]
  },
  {
   "cell_type": "markdown",
   "metadata": {},
   "source": [
    "As opposed to numbers and strings, lists are **mutable** objects. We can use a function that changes the object without assigning it to a new variable. For example:"
   ]
  },
  {
   "cell_type": "code",
   "execution_count": 34,
   "metadata": {
    "collapsed": false
   },
   "outputs": [
    {
     "name": "stdout",
     "output_type": "stream",
     "text": [
      "['a', 'b', 'c']\n",
      "['a', 'b', 'c', 'd']\n"
     ]
    }
   ],
   "source": [
    "my_list = ['a','b','c']\n",
    "print(my_list)\n",
    "\n",
    "# The function 'append' adds the element in the argument to the list at the next position\n",
    "my_list.append('d')\n",
    "print(my_list)"
   ]
  },
  {
   "cell_type": "markdown",
   "metadata": {},
   "source": [
    "### Careful with mutability!\n",
    "\n",
    "Lists are mutable objects, this means that when we pass them to a variable using the '=' operator, we **pass by reference** instead of making a **deep copy**. What does this mean? Let's see it with an example. Matlab users will be shocked!"
   ]
  },
  {
   "cell_type": "code",
   "execution_count": 40,
   "metadata": {
    "collapsed": false
   },
   "outputs": [
    {
     "name": "stdout",
     "output_type": "stream",
     "text": [
      "Hello\n",
      "Hello friend\n",
      "Matlab-like behavior\n",
      "-----------------------\n",
      "['Hello', 'friend']\n",
      "['Hello', 'friend']\n",
      "Wait, what?\n"
     ]
    }
   ],
   "source": [
    "## String is not mutable\n",
    "\n",
    "# We assign a string to a variable\n",
    "my_string = 'Hello'\n",
    "\n",
    "# We assign this variable to another variable \n",
    "my_string2 = my_string\n",
    "\n",
    "# We modify the second variable\n",
    "my_string2 += ' friend' \n",
    "\n",
    "# We print both\n",
    "print(my_string)\n",
    "print(my_string2)\n",
    "print('Matlab-like behavior')\n",
    "print('-----------------------')\n",
    "\n",
    "## List is mutable\n",
    "\n",
    "# We assign a list to a variable\n",
    "my_list = ['Hello']\n",
    "\n",
    "# We assign this variable to another variable \n",
    "my_list2 = my_list\n",
    "\n",
    "# We change the second variable\n",
    "my_list2+=['friend']\n",
    "\n",
    "# We print both\n",
    "print(my_list)\n",
    "print(my_list2)\n",
    "print('Wait, what?')"
   ]
  },
  {
   "cell_type": "markdown",
   "metadata": {},
   "source": [
    "A variable is a pointer to an object stored in the memory of the computer. \n",
    "* When we create an unmutable object and we pass it to a variable (v1), and then we do (v2=v1), the computer copies the object that v1 points to in another address in the memory, and v2 points to this new address.\n",
    "\n",
    "\n",
    "* When we create a mutable object and we pass it to a variable (v1), and then we do (v2=v1), the computer v2 points to the same address as v1, therefore if we modify v1 or v2 we are modifying the same thing.\n",
    "\n",
    "This is a source of mistakes if one is not careful. If you are interested at the bottom there are further exercises to better understand this"
   ]
  },
  {
   "cell_type": "markdown",
   "metadata": {},
   "source": [
    "## Some reflexions\n",
    "1. For Matlab users, this mutability does not exist in matlab. Think about it!\n",
    "\n",
    "\n",
    "2. What about the syntax of 'my_list.append(_argument_)'?\n",
    "    * Python is an object based language. Lists are a type of object (a **class** of object) and have some functions that are specific to the class. \n",
    "    * This functions that are specific to a class are called **methods**, and they are called with the sintax object_name.method_name(arguments)\n",
    "    * Some of these methods modify the object and do not return any output, like _.append()_\n",
    "    * Others do not modify the object, but return an output, like _.split()_ (see below)\n",
    "    * Others do both"
   ]
  },
  {
   "cell_type": "markdown",
   "metadata": {},
   "source": [
    "\n",
    "## Changing an element of the list\n",
    "\n",
    "We can also change the elements of the list by indexing:\n"
   ]
  },
  {
   "cell_type": "code",
   "execution_count": 36,
   "metadata": {
    "collapsed": false
   },
   "outputs": [
    {
     "name": "stdout",
     "output_type": "stream",
     "text": [
      "['a', 'b', 'd']\n",
      "['a', 'b', 'c']\n"
     ]
    }
   ],
   "source": [
    "my_list = ['a','b','d']\n",
    "print(my_list)\n",
    "\n",
    "# Change the 3rd element of the list to 'c'\n",
    "my_list[2] = 'c'\n",
    "print(my_list)"
   ]
  },
  {
   "cell_type": "markdown",
   "metadata": {},
   "source": [
    "### Try it yourself\n",
    "Try to make a list, add elements, change elements"
   ]
  },
  {
   "cell_type": "code",
   "execution_count": null,
   "metadata": {
    "collapsed": true
   },
   "outputs": [],
   "source": []
  },
  {
   "cell_type": "markdown",
   "metadata": {},
   "source": [
    "Split is a method of the class string. It returns a list with the elements of the string separated by spaces"
   ]
  },
  {
   "cell_type": "code",
   "execution_count": 39,
   "metadata": {
    "collapsed": false
   },
   "outputs": [
    {
     "name": "stdout",
     "output_type": "stream",
     "text": [
      "I love cytosim\n",
      "['I', 'love', 'cytosim']\n"
     ]
    }
   ],
   "source": [
    "my_string = 'I love cytosim'\n",
    "my_lis = my_string.split()\n",
    "print(my_string)\n",
    "print(my_lis)"
   ]
  },
  {
   "cell_type": "markdown",
   "metadata": {},
   "source": [
    "Now lets make a different string using some of the elements of the list"
   ]
  },
  {
   "cell_type": "code",
   "execution_count": 41,
   "metadata": {
    "collapsed": false
   },
   "outputs": [
    {
     "name": "stdout",
     "output_type": "stream",
     "text": [
      "I hate cytosim\n"
     ]
    }
   ],
   "source": [
    "my_lis = ['I', 'love', 'cytosim']\n",
    "new_string = my_lis[0] + ' hate ' + my_lis[2]\n",
    "print(new_string)"
   ]
  },
  {
   "cell_type": "markdown",
   "metadata": {},
   "source": [
    "As you can see, we can use the sum operator with strings and construct new strings"
   ]
  },
  {
   "cell_type": "markdown",
   "metadata": {},
   "source": [
    "### Try it yourself\n",
    "Try these new operations, and try other methods to see what they do: _.sort()_, _.capitalize()_, _.upper()_"
   ]
  },
  {
   "cell_type": "code",
   "execution_count": null,
   "metadata": {
    "collapsed": true
   },
   "outputs": [],
   "source": []
  },
  {
   "cell_type": "markdown",
   "metadata": {},
   "source": [
    "## Functions\n",
    "If we are going to be using the same set of commands many times, we can store the sequence of commands as a **function**. The syntax to define a general function is:"
   ]
  },
  {
   "cell_type": "code",
   "execution_count": 42,
   "metadata": {
    "collapsed": true
   },
   "outputs": [],
   "source": [
    "def function_name(argument_1,argument_2): # As many arguments as you need, dont forget the ':'\n",
    "\n",
    "    # Note that the body of the function is indented with respect to the previous line. This is the \n",
    "    # body of the function\n",
    "    \n",
    "    # Bunch of operations, in this case just a sum\n",
    "    output = argument_1+argument_2\n",
    "    \n",
    "    # Return: This is what the function returns after it is called.\n",
    "    return output"
   ]
  },
  {
   "cell_type": "markdown",
   "metadata": {},
   "source": [
    "Now lets write this function with realistic names"
   ]
  },
  {
   "cell_type": "code",
   "execution_count": 3,
   "metadata": {
    "collapsed": false
   },
   "outputs": [
    {
     "name": "stdout",
     "output_type": "stream",
     "text": [
      "3.5\n",
      "Despacito\n"
     ]
    }
   ],
   "source": [
    "# First, we define the function\n",
    "def sum_stuff(a1,a2):\n",
    "    the_sum = a1+a2\n",
    "    return the_sum\n",
    "\n",
    "# Now we call the function\n",
    "\n",
    "# We can directly print the output\n",
    "print(sum_stuff(1,2.5))\n",
    "\n",
    "# Or store it in a variable\n",
    "my_string = sum_stuff('Des','pacito')\n",
    "print(my_string)"
   ]
  },
  {
   "cell_type": "markdown",
   "metadata": {},
   "source": [
    "## A logical consequence\n",
    "As you can see this function performs the sum of any kind of object, it can be a string or a number, or something else. The **operator** '+' acts differently on different objects.\n",
    "Let's say we want to make our function a bit more sofisticated:\n",
    "1. If we are summing strings, we would like to have a space between them, like when we add words. We will have to use the function _type()_ which returns a **type** object, that indicates the class of the object\n",
    "2. The function should make sure that both objects can be added, otherwise the sum will return an error and the program will be interrupted. So far we consider that the arguments can be numbers or strings."
   ]
  },
  {
   "cell_type": "code",
   "execution_count": 14,
   "metadata": {
    "collapsed": false
   },
   "outputs": [
    {
     "name": "stdout",
     "output_type": "stream",
     "text": [
      "Error, the arguments cannot be added\n",
      "16.5\n",
      "suave suavecito\n"
     ]
    }
   ],
   "source": [
    "def sum_stuff(a1,a2):\n",
    "\n",
    "    # Check if any of them is a string:\n",
    "    if type(a1) == str or type(a2) == str:\n",
    "        \n",
    "        # If one is not a string, then return an error\n",
    "        if type(a1)!=type(a2):\n",
    "            return 'Error, the arguments cannot be added'\n",
    "        \n",
    "        # Otherwise return the sum with the space\n",
    "        else:\n",
    "            return a1+' '+a2\n",
    "    \n",
    "    # If the argument is not a string we assume it is a number, therefore we just add them\n",
    "    else:\n",
    "        return a1+a2\n",
    "    \n",
    "print(sum_stuff('a',1))\n",
    "print(sum_stuff(12.5,4))\n",
    "print(sum_stuff('suave','suavecito'))"
   ]
  },
  {
   "cell_type": "markdown",
   "metadata": {},
   "source": [
    "There is a lot of new syntax in that last function:\n",
    "1. '==' and '!=' are **relational operators** that return **boolean/logical** variables, that can be either _True_ or _False_:\n",
    "    * '==' tests wether two objects are equal, returns _True_ if the objects are equal and _False_ otherwise.\n",
    "    * '!=' tests wether two objects are different, the opposite of '=='\n",
    "\n",
    "2. 'or' is a **logical operator**, it compares two objects, and returns _True_ if any of the objects is true, and _False_ otherwise. \n",
    "\n",
    "3. As you can see, a function can have multiple returns\n",
    "\n",
    "4. Logical variables can be used in an 'if' statement with the structure:"
   ]
  },
  {
   "cell_type": "code",
   "execution_count": 16,
   "metadata": {
    "collapsed": false
   },
   "outputs": [
    {
     "name": "stdout",
     "output_type": "stream",
     "text": [
      "condition was true\n"
     ]
    }
   ],
   "source": [
    "condition = True\n",
    "if condition:\n",
    "    # Things to run if the condition is true\n",
    "    print('condition was true')\n",
    "else:\n",
    "    # Things to run if the condition is false\n",
    "    print('condition was false')"
   ]
  },
  {
   "cell_type": "markdown",
   "metadata": {},
   "source": [
    "Note that we use indentation again in the if/else statement. All the lines of code that are executed if 'condition' is true are indented one level, same for else."
   ]
  },
  {
   "cell_type": "markdown",
   "metadata": {},
   "source": [
    "### Try it yourself\n",
    "\n",
    "1. Make a function that tests if two objects have the same type, and print something in one case and something different in the other case.\n",
    "\n",
    "2. Make a function that tests if three objects are strings and prints something in one case and something different in the other case. For this you can use the logical operator 'and', which returns true if both objects compared are true, and false otherwise.\n",
    "\n",
    "3. Test them"
   ]
  },
  {
   "cell_type": "code",
   "execution_count": null,
   "metadata": {
    "collapsed": false
   },
   "outputs": [],
   "source": []
  },
  {
   "cell_type": "markdown",
   "metadata": {},
   "source": [
    "## Loops\n",
    "\n",
    "A fundamental feature of programming is **iteration**, which is going through the elements of an object. The relevant ones for us are mainly:\n",
    "* Characters of a string\n",
    "* Elements of a list\n",
    "* Lines of a file\n",
    "\n",
    "We can do this with a **for loop**.\n",
    "A very simple example can be shown below. Note that indentation is used in the body of the loop."
   ]
  },
  {
   "cell_type": "code",
   "execution_count": 18,
   "metadata": {
    "collapsed": false
   },
   "outputs": [
    {
     "name": "stdout",
     "output_type": "stream",
     "text": [
      "Despacito\n",
      "suave\n",
      "suavecito\n"
     ]
    }
   ],
   "source": [
    "my_list = ['Despacito', 'suave', 'suavecito']\n",
    "\n",
    "for word in my_list:\n",
    "    print(word)"
   ]
  },
  {
   "cell_type": "markdown",
   "metadata": {},
   "source": [
    "### Loops using indexing\n",
    "\n",
    "Depending on the case, you may want to iterate along the indexes instead of the elements, for example when you want to change the elements of a list.\n",
    "\n",
    "Let's say we have a list of names and we want to have the first letter in capital letters.\n"
   ]
  },
  {
   "cell_type": "code",
   "execution_count": null,
   "metadata": {
    "collapsed": true
   },
   "outputs": [],
   "source": [
    "my_list = ['francois', 'julio','natalia']\n",
    "\n",
    "print(my_list)\n",
    "\n",
    "for i in range(len(my_list)):\n",
    "    old_name = my_list[i]\n",
    "    new_name = old_name[0].upper() + old_name[1:]\n",
    "    my_list[i] = new_name\n",
    "\n",
    "print(my_list)"
   ]
  },
  {
   "cell_type": "markdown",
   "metadata": {},
   "source": [
    " * _len()_ is a function that returns the length of an object\n",
    " * _range()_ is a function that given an integer 'n', returns a list [0,1,...,n-1]\n",
    " * Since python's indexes start at 0, _range(len(alist))_ will return a list with the indexes of the elements in  _alist_"
   ]
  },
  {
   "cell_type": "markdown",
   "metadata": {},
   "source": [
    "### Careful with mutability!\n",
    "\n",
    "Remember that lists are mutable objects, if we pass a list to a function as an argument to the function, when we make changes to the list inside the function (even if the variable name is different inside the function), the list will change. See this in an example. This is very different from the behaviour of objects in matlab, keep this very present when you write your programs"
   ]
  },
  {
   "cell_type": "code",
   "execution_count": 41,
   "metadata": {
    "collapsed": false
   },
   "outputs": [
    {
     "name": "stdout",
     "output_type": "stream",
     "text": [
      "before:\n",
      "['a', 'b', 'c']\n",
      "after:\n",
      "['a', 'hello', 'c']\n"
     ]
    }
   ],
   "source": [
    "# Define function that takes a list as an argument and changes the\n",
    "def change_list(a_list):\n",
    "    a_list[1] = 'hello'    \n",
    "    # This function does not return anything, you could ommit the 'return'\n",
    "    return\n",
    "\n",
    "# The original list\n",
    "my_list = ['a','b','c']\n",
    "\n",
    "# Print the original list\n",
    "print('before:')\n",
    "print(my_list)\n",
    "\n",
    "# Call the function\n",
    "change_list(my_list)\n",
    "\n",
    "# See if the list changed\n",
    "print('after:')\n",
    "print(my_list)"
   ]
  },
  {
   "cell_type": "markdown",
   "metadata": {},
   "source": [
    "### Try it yourself\n",
    "\n",
    "Make two functions:\n",
    "* Both take a list as an argument\n",
    "* One converts the list into a list in which each value is the previous value times 2: [1,2,3]->[2,4,6]\n",
    "* One takes a list of strings, and returns another list with the first letter of every string: ['Ab','cD']->['A','c']\n",
    "    * _tip:_ to create an empty list you can use the function list() or the syntax [ ]"
   ]
  },
  {
   "cell_type": "code",
   "execution_count": null,
   "metadata": {
    "collapsed": true
   },
   "outputs": [],
   "source": []
  },
  {
   "cell_type": "markdown",
   "metadata": {},
   "source": [
    "## Data type changing and string formatting\n",
    "\n",
    "Very often you will be wanting to read data from files that have a predifined format. Let's say that we have a list of strings with the format \"name age height sex\".\n"
   ]
  },
  {
   "cell_type": "code",
   "execution_count": 55,
   "metadata": {
    "collapsed": false
   },
   "outputs": [
    {
     "name": "stdout",
     "output_type": "stream",
     "text": [
      "Clara Maria Jane are females, their total age is 115, their average height is 1.7\n"
     ]
    }
   ],
   "source": [
    "# List of formatted data\n",
    "in_list = ['Clara,18,1.73,female', 'Ralph,54,1.80,male', 'Ted,23,1.68,male', 'Maria,65,1.60,female', 'Jane,32,1.78,female']\n",
    "\n",
    "# Let's say we want to know what are the names of the females and their average age and height.\n",
    "# We want to print a string in the format:\n",
    "# name1 name2 name_n are females, their total age is X, their average height is Y.Y(only one decimal) m\n",
    "names = list()\n",
    "heights = list()\n",
    "ages = list()\n",
    "# We iterate through the elements of the list\n",
    "for string_i in in_list:    \n",
    "\n",
    "    # We make a list with the different words as string, we can indicate the character that separates the elements\n",
    "    # to the string method _split()_\n",
    "    string_list = string_i.split(',')\n",
    "    \n",
    "    # We are only considering the females\n",
    "    if string_list[3]=='female':\n",
    "\n",
    "        # We store the names as strings\n",
    "        names.append(string_list[0])\n",
    "        \n",
    "        # The age is expressed as an integer, to convert a string to an integer we use the function int()\n",
    "        ages.append(int(string_list[1]))\n",
    "\n",
    "        # The height is expressed as a float, to convert a string to a float we use the function float()\n",
    "        heights.append(float(string_list[2]))\n",
    "\n",
    "# Now we have the elements stored in the different lists: names, ages, heights, let's make the string\n",
    "\n",
    "# We create an empty string\n",
    "final_str = str()\n",
    "\n",
    "# We add the name\n",
    "for name in names:\n",
    "    final_str+=name+' '\n",
    "\n",
    "# We calculate average age and height\n",
    "ave_height = sum(heights)/len(heights)\n",
    "\n",
    "# If we dont convert to float, it will do an integer division\n",
    "ave_age = sum(ages)\n",
    "\n",
    "# Add the second chunk of the string\n",
    "final_str+= 'are females, their total age is %i, their average height is %.1f' % (ave_age, ave_height)\n",
    "\n",
    "print final_str"
   ]
  },
  {
   "cell_type": "markdown",
   "metadata": {},
   "source": [
    "String formatting syntax offers many more possibilities, but for the moment this two examples are enough. The '%' operator after a string followed by variables in parenthesis allows for substituting some characters in the string by the objects in the variables converted to strings. In this example %i indicates we want ave_age in integer format('%i'), and ave_height in float format with one decimal ('%1.f')\n"
   ]
  },
  {
   "cell_type": "markdown",
   "metadata": {},
   "source": [
    "## Finally: reading and writing files\n",
    "\n",
    "In the same folder as this notebook you are provided with two files 'swimmers_female.txt' and 'swimmers_male.txt'. This is a classic dataset used in statistics. They contain the progression of 100 metres freestyle for women and men respectively. The task is the following:\n",
    "\n",
    "* Store the information for men and women of record time, country and year in different lists.\n",
    "* Make a scatter plot time vs. record for men in one color and women in other color.\n",
    "* Print a file with all the swimmers of a country you choose, including both male and female in the same file adding and extra field to the data including the sex of the swimmer.\n",
    "\n",
    "Before you start with this you need to know a few things\n"
   ]
  },
  {
   "cell_type": "markdown",
   "metadata": {},
   "source": [
    "### Reading lines of a file as strings\n",
    "There are several ways of reading files, but this one is very convenient if you just want to read it line by line (generally thats what you want):"
   ]
  },
  {
   "cell_type": "code",
   "execution_count": 5,
   "metadata": {
    "collapsed": false
   },
   "outputs": [
    {
     "name": "stdout",
     "output_type": "stream",
     "text": [
      "01:35.0,Germany,1908\n",
      "01:26.6,Belgium,1910\n",
      "01:24.6,Great Britain,1911\n",
      "01:20.6,Great Britain,1912\n",
      "01:19.8,Australia,1912\n",
      "01:18.8,Australia,1912\n",
      "01:16.2,Australia,1915\n",
      "01:14.4,United States,1920\n",
      "01:13.6,United States,1920\n",
      "01:12.8,United States,1923\n",
      "01:12.2,United States,1924\n",
      "01:10.0,United States,1926\n",
      "01:09.8,United States,1929\n",
      "01:09.4,United States,1929\n",
      "01:08.0,United States,1930\n",
      "01:06.6,United States,1931\n",
      "01:06.0,Netherlands,1933\n",
      "01:05.4,Netherlands,1934\n",
      "01:04.8,Netherlands,1934\n",
      "01:04.6,Netherlands,1936\n",
      "01:04.5,Australia,1956\n",
      "01:04.2,Netherlands,1956\n",
      "01:04.0,Netherlands,1956\n",
      "01:03.3,Australia,1956\n",
      "01:03.2,Australia,1956\n",
      "01:02.4,Australia,1956\n",
      "01:02.0,Australia,1956\n",
      "01:01.5,Australia,1958\n",
      "01:01.4,Australia,1958\n",
      "01:01.2,Australia,1958\n",
      "01:00.2,Australia,1960\n",
      "01:00.0,Australia,1962\n",
      "59.9,Australia,1962\n",
      "59.5,Australia,1962\n",
      "58.9,Australia,1964\n",
      "58.9,Australia,1971\n",
      "58.5,Australia,1972\n",
      "58.25,East Germany,1973\n",
      "58.12,East Germany,1973\n",
      "57.61,East Germany,1973\n",
      "57.54,East Germany,1973\n",
      "57.51,East Germany,1974\n",
      "56.96,East Germany,1974\n",
      "56.38,East Germany,1975\n",
      "56.22,East Germany,1975\n",
      "55.73,East Germany,1976\n",
      "55.65,East Germany,1976\n",
      "55.41,East Germany,1978\n",
      "54.98,East Germany,1980\n",
      "54.79,East Germany,1980\n",
      "54.73,East Germany,1986\n",
      "54.48,United States,1992\n",
      "54.01,China,1994\n",
      "53.8,Netherlands,2000\n",
      "53.77,Netherlands,2000\n",
      "53.66,Australia,2004\n",
      "53.52,Australia,2004\n",
      "53.42,Australia,2006\n",
      "53.3,Germany,2006\n",
      "52.88,Australia,2008\n",
      "52.85,Germany,2009\n",
      "52.56,Germany,2009\n",
      "52.22,Germany,2009\n",
      "52.07,Germany,2009\n",
      "52.06,Australia,2016\n",
      "51.71,Sweden,2017\n"
     ]
    }
   ],
   "source": [
    "with open('swimmers_female.txt','r') as ins: # 'r' indicates that we are only reading the file, we can not edit it\n",
    "    for line in ins: # Iterate along the lines of the file, we get them as strings\n",
    "        \n",
    "        print(line[:-1]) # Print the line omitting the last character.\n",
    "        \n",
    "        # We do [:-1] because the last character in this case is the linebreak character '\\n' which indicates that\n",
    "        # the line ends there, you can try to print without the [:-1] and see what happens\n",
    "\n",
    "    ins.close() # close the file"
   ]
  },
  {
   "cell_type": "markdown",
   "metadata": {},
   "source": [
    "### Writing a file\n",
    "\n",
    "Again, there are several ways, we are going to learn this one. In this simple case we want to print the elements of a list in different lines of a file"
   ]
  },
  {
   "cell_type": "code",
   "execution_count": 9,
   "metadata": {
    "collapsed": false
   },
   "outputs": [],
   "source": [
    "# The list that we want to print to the file\n",
    "list2print = ['hola',2,['a',2,3]]\n",
    "\n",
    "# We open the file, in this case in 'w' write mode, because we want to write in the file\n",
    "out_file = file('out.txt','w')\n",
    "\n",
    "# Iterate through the elements of the list\n",
    "for element in list2print:\n",
    "    # Write the element to the file. Note that you have to convert each element to a string, the function .write()\n",
    "    # does not take lists nor numbers as arguments\n",
    "    # We add the linebreak character '\\n' at the end of each line so that we get a linebreak after each element\n",
    "    out_file.write(str(element)+'\\n')\n",
    "\n",
    "# We close the file. This is very important!\n",
    "out_file.close()\n",
    "\n",
    "# You can check the folder and you will see that a new file was created"
   ]
  },
  {
   "cell_type": "markdown",
   "metadata": {},
   "source": [
    "### Plotting\n",
    "\n",
    "\n",
    "We are going to learn two examples, line plot and scatter plot. Here we also have to introduce the concept of **python module**. All the functions that we have used so far are functions that are always available in python. However, some other functions are stored in the so called modules, we have to import them into python so that we can used them. A module contains a series of functions, and the syntax to import a module is the following:"
   ]
  },
  {
   "cell_type": "code",
   "execution_count": 22,
   "metadata": {
    "collapsed": false
   },
   "outputs": [
    {
     "data": {
      "image/png": "[encoded data removed]",
      "text/plain": [
       "<matplotlib.figure.Figure at 0x110369190>"
      ]
     },
     "metadata": {},
     "output_type": "display_data"
    },
    {
     "data": {
      "image/png": "[encoded data removed]",
      "text/plain": [
       "<matplotlib.figure.Figure at 0x113abc690>"
      ]
     },
     "metadata": {},
     "output_type": "display_data"
    }
   ],
   "source": [
    "# Here we import the module matplotlib.pyplot, but since its name is very long we define 'as plt', this\n",
    "# is the name that we have to write every time we want to use a function from the module we use the syntax\n",
    "# plt.function_name(arguments)\n",
    "\n",
    "import matplotlib.pyplot as plt\n",
    "\n",
    "## Fabricate the data\n",
    "\n",
    "# We make a list of integers that goes from -5 to 5\n",
    "x = range(-5,6)\n",
    "\n",
    "# With a for loop we construct a list of x^2\n",
    "y = list()\n",
    "for i in x:\n",
    "    y.append(i*i)\n",
    "\n",
    "\n",
    "# The function figure() creates an empty figure\n",
    "plt.figure()\n",
    "# The function plot draws a line with points x[0],y[0]; x[1],y[1], etc.\n",
    "plt.plot(x,y)\n",
    "\n",
    "# We create another figure and draw a scatter plot\n",
    "plt.figure()\n",
    "# Some functions have optional arguments. Most plotting functions have the optional argument 'color' used with this\n",
    "# syntax. You specify the color as a string\n",
    "plt.scatter(x,y,color='red')\n",
    "\n",
    "\n",
    "plt.show()\n"
   ]
  },
  {
   "cell_type": "code",
   "execution_count": null,
   "metadata": {
    "collapsed": true
   },
   "outputs": [],
   "source": []
  }
 ],
 "metadata": {
  "anaconda-cloud": {},
  "kernelspec": {
   "display_name": "Python 2",
   "language": "python",
   "name": "python2"
  },
  "language_info": {
   "codemirror_mode": {
    "name": "ipython",
    "version": 2
   },
   "file_extension": ".py",
   "mimetype": "text/x-python",
   "name": "python",
   "nbconvert_exporter": "python",
   "pygments_lexer": "ipython2",
   "version": "2.7.13"
  }
 },
 "nbformat": 4,
 "nbformat_minor": 0
}
